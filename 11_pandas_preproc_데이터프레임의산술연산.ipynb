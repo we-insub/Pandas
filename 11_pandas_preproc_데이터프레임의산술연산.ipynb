{
  "nbformat": 4,
  "nbformat_minor": 0,
  "metadata": {
    "colab": {
      "name": "ch02-part10-데이터전처리-DataFrame산술연산-해설",
      "provenance": [],
      "collapsed_sections": []
    },
    "kernelspec": {
      "name": "python3",
      "display_name": "Python 3"
    }
  },
  "cells": [
    {
      "cell_type": "code",
      "metadata": {
        "id": "yb6uBdu7wro-",
        "colab_type": "code",
        "colab": {}
      },
      "source": [
        "import pandas as pd\n",
        "import numpy as np"
      ],
      "execution_count": 0,
      "outputs": []
    },
    {
      "cell_type": "code",
      "metadata": {
        "id": "5nTbKtj0xCHy",
        "colab_type": "code",
        "colab": {}
      },
      "source": [
        ""
      ],
      "execution_count": 0,
      "outputs": []
    },
    {
      "cell_type": "markdown",
      "metadata": {
        "id": "uxI2y4sGxewd",
        "colab_type": "text"
      },
      "source": [
        "## 예제 DataFrame 생성"
      ]
    },
    {
      "cell_type": "code",
      "metadata": {
        "id": "JPtXbvDgxCnI",
        "colab_type": "code",
        "colab": {}
      },
      "source": [
        "df = pd.DataFrame({'통계': [60, 70, 80, 85, 75], '미술': [50, 55, 80, 100, 95], '체육': [70, 65, 50, 95, 100] })"
      ],
      "execution_count": 0,
      "outputs": []
    },
    {
      "cell_type": "code",
      "metadata": {
        "id": "UKe9k--txCp8",
        "colab_type": "code",
        "colab": {}
      },
      "source": [
        "df"
      ],
      "execution_count": 0,
      "outputs": []
    },
    {
      "cell_type": "code",
      "metadata": {
        "id": "4bLFMi0AxCst",
        "colab_type": "code",
        "colab": {}
      },
      "source": [
        ""
      ],
      "execution_count": 0,
      "outputs": []
    },
    {
      "cell_type": "markdown",
      "metadata": {
        "id": "TrqaLdmhxocJ",
        "colab_type": "text"
      },
      "source": [
        "## 1. Column 과 Column 간 연산 (+, -, *, /, %)"
      ]
    },
    {
      "cell_type": "code",
      "metadata": {
        "id": "Yx-a18HyZ7on",
        "colab_type": "code",
        "colab": {}
      },
      "source": [
        "type(df['통계'])"
      ],
      "execution_count": 0,
      "outputs": []
    },
    {
      "cell_type": "code",
      "metadata": {
        "id": "FGq8jy_Zxj2R",
        "colab_type": "code",
        "colab": {}
      },
      "source": [
        "df['통계'] + df['미술'] + df['체육']"
      ],
      "execution_count": 0,
      "outputs": []
    },
    {
      "cell_type": "code",
      "metadata": {
        "id": "joawuHPoxnE4",
        "colab_type": "code",
        "colab": {}
      },
      "source": [
        "df['통계'] - df['미술']"
      ],
      "execution_count": 0,
      "outputs": []
    },
    {
      "cell_type": "code",
      "metadata": {
        "id": "5fJczxF5x3Qz",
        "colab_type": "code",
        "colab": {}
      },
      "source": [
        "df['통계'] * df['미술']"
      ],
      "execution_count": 0,
      "outputs": []
    },
    {
      "cell_type": "code",
      "metadata": {
        "id": "gpbKCs5ox4kX",
        "colab_type": "code",
        "colab": {}
      },
      "source": [
        "df['통계'] / df['미술']"
      ],
      "execution_count": 0,
      "outputs": []
    },
    {
      "cell_type": "code",
      "metadata": {
        "id": "9JUEeaJnx7Qk",
        "colab_type": "code",
        "colab": {}
      },
      "source": [
        "df['통계'] % df['미술']"
      ],
      "execution_count": 0,
      "outputs": []
    },
    {
      "cell_type": "code",
      "metadata": {
        "id": "xF_a7w_Ix9b6",
        "colab_type": "code",
        "colab": {}
      },
      "source": [
        ""
      ],
      "execution_count": 0,
      "outputs": []
    },
    {
      "cell_type": "markdown",
      "metadata": {
        "id": "UiJ-5zIdyG5D",
        "colab_type": "text"
      },
      "source": [
        "## 2. Column 과 숫자 간 연산 (+, -, *, /, %)"
      ]
    },
    {
      "cell_type": "code",
      "metadata": {
        "id": "lp4xWdX7yJyZ",
        "colab_type": "code",
        "colab": {}
      },
      "source": [
        "df['통계'] + 10"
      ],
      "execution_count": 0,
      "outputs": []
    },
    {
      "cell_type": "code",
      "metadata": {
        "id": "DDphwC4TyOzw",
        "colab_type": "code",
        "colab": {}
      },
      "source": [
        "df['통계'] - 10"
      ],
      "execution_count": 0,
      "outputs": []
    },
    {
      "cell_type": "code",
      "metadata": {
        "id": "TNvGDq5MyQUS",
        "colab_type": "code",
        "colab": {}
      },
      "source": [
        "df['통계'] * 10"
      ],
      "execution_count": 0,
      "outputs": []
    },
    {
      "cell_type": "code",
      "metadata": {
        "id": "CpOvw7fVyRfB",
        "colab_type": "code",
        "colab": {}
      },
      "source": [
        "df['통계'] / 10"
      ],
      "execution_count": 0,
      "outputs": []
    },
    {
      "cell_type": "code",
      "metadata": {
        "id": "efPPD3gfySp7",
        "colab_type": "code",
        "colab": {}
      },
      "source": [
        "df['통계'] % 10"
      ],
      "execution_count": 0,
      "outputs": []
    },
    {
      "cell_type": "code",
      "metadata": {
        "id": "5c60Ng9XyZB6",
        "colab_type": "code",
        "colab": {}
      },
      "source": [
        ""
      ],
      "execution_count": 0,
      "outputs": []
    },
    {
      "cell_type": "markdown",
      "metadata": {
        "id": "NoG_pKqEzYGf",
        "colab_type": "text"
      },
      "source": [
        "## 3. 복합 연산"
      ]
    },
    {
      "cell_type": "code",
      "metadata": {
        "id": "XkuoHHSrzgXI",
        "colab_type": "code",
        "colab": {}
      },
      "source": [
        "df = pd.DataFrame({'통계': [60, 70, 80, 85, 75], '미술': [50, 55, 80, 100, 95], '체육': [70, 65, 50, 95, 100] })"
      ],
      "execution_count": 0,
      "outputs": []
    },
    {
      "cell_type": "code",
      "metadata": {
        "id": "0VANEHznafkI",
        "colab_type": "code",
        "colab": {}
      },
      "source": [
        "df"
      ],
      "execution_count": 0,
      "outputs": []
    },
    {
      "cell_type": "code",
      "metadata": {
        "id": "SEVuru53zX4g",
        "colab_type": "code",
        "colab": {}
      },
      "source": [
        "df['통계미술합계'] = df['통계'] + df['미술'] + 10"
      ],
      "execution_count": 0,
      "outputs": []
    },
    {
      "cell_type": "code",
      "metadata": {
        "id": "Bbqo1Z7canby",
        "colab_type": "code",
        "colab": {}
      },
      "source": [
        "df"
      ],
      "execution_count": 0,
      "outputs": []
    },
    {
      "cell_type": "code",
      "metadata": {
        "id": "YB8bO7TnziNw",
        "colab_type": "code",
        "colab": {}
      },
      "source": [
        "df['통계'] + df['미술'] - df['체육']"
      ],
      "execution_count": 0,
      "outputs": []
    },
    {
      "cell_type": "code",
      "metadata": {
        "id": "vbc5BB4XzmeS",
        "colab_type": "code",
        "colab": {}
      },
      "source": [
        "df.mean(axis=0)"
      ],
      "execution_count": 0,
      "outputs": []
    },
    {
      "cell_type": "markdown",
      "metadata": {
        "id": "LhdWihPLzsaZ",
        "colab_type": "text"
      },
      "source": [
        "## 4. mean(), sum()을 axis 기준으로 연산"
      ]
    },
    {
      "cell_type": "code",
      "metadata": {
        "id": "KQffTar9zxi3",
        "colab_type": "code",
        "colab": {}
      },
      "source": [
        "df = pd.DataFrame({'통계': [60, 70, 80, 85, 75], '미술': [50, 55, 80, 100, 95], '체육': [70, 65, 50, 95, 100] })"
      ],
      "execution_count": 0,
      "outputs": []
    },
    {
      "cell_type": "code",
      "metadata": {
        "id": "8aQg5BSvzyNT",
        "colab_type": "code",
        "colab": {}
      },
      "source": [
        "df"
      ],
      "execution_count": 0,
      "outputs": []
    },
    {
      "cell_type": "code",
      "metadata": {
        "id": "0_kPRntkz2fl",
        "colab_type": "code",
        "colab": {}
      },
      "source": [
        "df.sum(axis=0)"
      ],
      "execution_count": 0,
      "outputs": []
    },
    {
      "cell_type": "code",
      "metadata": {
        "id": "oEx6W02Rzh_o",
        "colab_type": "code",
        "colab": {}
      },
      "source": [
        "df.mean(axis=0)"
      ],
      "execution_count": 0,
      "outputs": []
    },
    {
      "cell_type": "code",
      "metadata": {
        "id": "Me_W6e07z1Bx",
        "colab_type": "code",
        "colab": {}
      },
      "source": [
        "df.sum(axis=1)"
      ],
      "execution_count": 0,
      "outputs": []
    },
    {
      "cell_type": "code",
      "metadata": {
        "id": "mZ1zeP8ez5t9",
        "colab_type": "code",
        "colab": {}
      },
      "source": [
        "df.mean(axis=1)"
      ],
      "execution_count": 0,
      "outputs": []
    },
    {
      "cell_type": "code",
      "metadata": {
        "id": "hZi_xgNMz8uI",
        "colab_type": "code",
        "colab": {}
      },
      "source": [
        ""
      ],
      "execution_count": 0,
      "outputs": []
    },
    {
      "cell_type": "markdown",
      "metadata": {
        "id": "gAV-r2qIyUOY",
        "colab_type": "text"
      },
      "source": [
        "## 5. NaN 값이 존재할 경우 연산"
      ]
    },
    {
      "cell_type": "code",
      "metadata": {
        "id": "W67CS9r_ycHf",
        "colab_type": "code",
        "colab": {}
      },
      "source": [
        "df = pd.DataFrame({'통계': [60, 70, np.nan , 85, 75], '미술': [50, np.nan , 80, 100, 95], '체육': [70, 65, 50, np.nan , 100] })"
      ],
      "execution_count": 0,
      "outputs": []
    },
    {
      "cell_type": "code",
      "metadata": {
        "id": "ggaOTtUzyfoY",
        "colab_type": "code",
        "colab": {}
      },
      "source": [
        "df"
      ],
      "execution_count": 0,
      "outputs": []
    },
    {
      "cell_type": "code",
      "metadata": {
        "id": "ummq88Layl7O",
        "colab_type": "code",
        "colab": {}
      },
      "source": [
        "df['통계'] / 2"
      ],
      "execution_count": 0,
      "outputs": []
    },
    {
      "cell_type": "code",
      "metadata": {
        "id": "KlTdqyqXyqh8",
        "colab_type": "code",
        "colab": {}
      },
      "source": [
        "1000 / df['통계'] "
      ],
      "execution_count": 0,
      "outputs": []
    },
    {
      "cell_type": "code",
      "metadata": {
        "id": "8hVQ-dqPyt3d",
        "colab_type": "code",
        "colab": {}
      },
      "source": [
        "df['통계'] / np.nan"
      ],
      "execution_count": 0,
      "outputs": []
    },
    {
      "cell_type": "code",
      "metadata": {
        "id": "U2wSGZL3yzGb",
        "colab_type": "code",
        "colab": {}
      },
      "source": [
        "np.nan / df['통계']"
      ],
      "execution_count": 0,
      "outputs": []
    },
    {
      "cell_type": "markdown",
      "metadata": {
        "id": "qSue8CsEy1ha",
        "colab_type": "text"
      },
      "source": [
        "## 6. DataFrame 과 DataFrame 간 연산"
      ]
    },
    {
      "cell_type": "code",
      "metadata": {
        "id": "F7XcGDhj0J8i",
        "colab_type": "code",
        "colab": {}
      },
      "source": [
        "df1 = pd.DataFrame({'통계': [60, 70, 80, 85, 75], '미술': [50, 55, 80, 100, 95], '체육': [70, 65, 50, 95, 100] })"
      ],
      "execution_count": 0,
      "outputs": []
    },
    {
      "cell_type": "code",
      "metadata": {
        "id": "8WruI_hkzEHS",
        "colab_type": "code",
        "colab": {}
      },
      "source": [
        "df2 = pd.DataFrame({'통계': ['good', 'bad', 'ok' , 'good', 'ok'], '미술': [50, 60 , 80, 100, 95], '체육': [70, 65, 50, 70 , 100] })"
      ],
      "execution_count": 0,
      "outputs": []
    },
    {
      "cell_type": "code",
      "metadata": {
        "id": "_Q3t7Uhr0OPn",
        "colab_type": "code",
        "colab": {}
      },
      "source": [
        "df1"
      ],
      "execution_count": 0,
      "outputs": []
    },
    {
      "cell_type": "code",
      "metadata": {
        "id": "X5sACc-s0Pf-",
        "colab_type": "code",
        "colab": {}
      },
      "source": [
        "df2"
      ],
      "execution_count": 0,
      "outputs": []
    },
    {
      "cell_type": "markdown",
      "metadata": {
        "id": "92IxI8QN0jfO",
        "colab_type": "text"
      },
      "source": [
        "문자열이 포함된 DataFrame의 경우"
      ]
    },
    {
      "cell_type": "code",
      "metadata": {
        "id": "ZA23lRyjzMHu",
        "colab_type": "code",
        "colab": {}
      },
      "source": [
        "df1 + df2"
      ],
      "execution_count": 0,
      "outputs": []
    },
    {
      "cell_type": "markdown",
      "metadata": {
        "id": "82VnMz-i144i",
        "colab_type": "text"
      },
      "source": [
        "문자열이 포함된 DataFrame의 브로드캐스팅 연산"
      ]
    },
    {
      "cell_type": "code",
      "metadata": {
        "id": "q5jxzMrb14Wi",
        "colab_type": "code",
        "colab": {}
      },
      "source": [
        "df1 + 10"
      ],
      "execution_count": 0,
      "outputs": []
    },
    {
      "cell_type": "code",
      "metadata": {
        "id": "mZK4Hokz182D",
        "colab_type": "code",
        "colab": {}
      },
      "source": [
        "df2 + 10"
      ],
      "execution_count": 0,
      "outputs": []
    },
    {
      "cell_type": "markdown",
      "metadata": {
        "id": "uSuDBs9r1PPm",
        "colab_type": "text"
      },
      "source": [
        "column의 순서가 바뀌어 있는 경우"
      ]
    },
    {
      "cell_type": "code",
      "metadata": {
        "id": "ReiTq6nc0rcr",
        "colab_type": "code",
        "colab": {}
      },
      "source": [
        "df1 = pd.DataFrame({'미술': [10, 20, 30, 40, 50], '통계':[60, 70, 80, 90, 100] })\n",
        "df2 = pd.DataFrame({'통계': [10, 20, 30, 40, 50], '미술': [60, 70, 80, 90, 100] })"
      ],
      "execution_count": 0,
      "outputs": []
    },
    {
      "cell_type": "code",
      "metadata": {
        "id": "D7En0RHbb3s3",
        "colab_type": "code",
        "colab": {}
      },
      "source": [
        "df1"
      ],
      "execution_count": 0,
      "outputs": []
    },
    {
      "cell_type": "code",
      "metadata": {
        "id": "ihEf0BiBb4xk",
        "colab_type": "code",
        "colab": {}
      },
      "source": [
        "df2"
      ],
      "execution_count": 0,
      "outputs": []
    },
    {
      "cell_type": "code",
      "metadata": {
        "id": "Z7rkdkOX0bkA",
        "colab_type": "code",
        "colab": {}
      },
      "source": [
        "df1 + df2"
      ],
      "execution_count": 0,
      "outputs": []
    },
    {
      "cell_type": "markdown",
      "metadata": {
        "id": "fCxpXLZr1WSi",
        "colab_type": "text"
      },
      "source": [
        "행의 갯수가 다른경우"
      ]
    },
    {
      "cell_type": "code",
      "metadata": {
        "id": "ejVeQupc1Se7",
        "colab_type": "code",
        "colab": {}
      },
      "source": [
        "df1 = pd.DataFrame({'미술': [10, 20, 30, 40, 50, 60], '통계':[60, 70, 80, 90, 100, 110] })\n",
        "df2 = pd.DataFrame({'통계': [10, 20, 30, 40, 50], '미술': [60, 70, 80, 90, 100] })"
      ],
      "execution_count": 0,
      "outputs": []
    },
    {
      "cell_type": "code",
      "metadata": {
        "id": "-F4169t71aM8",
        "colab_type": "code",
        "colab": {}
      },
      "source": [
        "df1 * df2"
      ],
      "execution_count": 0,
      "outputs": []
    },
    {
      "cell_type": "code",
      "metadata": {
        "id": "KA8Co48VzRX-",
        "colab_type": "code",
        "colab": {}
      },
      "source": [
        ""
      ],
      "execution_count": 0,
      "outputs": []
    }
  ]
}